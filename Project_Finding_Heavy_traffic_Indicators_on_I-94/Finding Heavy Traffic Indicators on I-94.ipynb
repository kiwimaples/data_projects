{
 "cells": [
  {
   "cell_type": "markdown",
   "metadata": {},
   "source": [
    "# Finding Heavy Traffic Indicators on I-94"
   ]
  },
  {
   "cell_type": "markdown",
   "metadata": {},
   "source": [
    "We will be analysing the westbound traffic of a specific part of the I-94 Interstate highway in the USA using the traffic data from 2012 to 2018\n",
    "\n",
    "The goal of the analysis is to identify indicators of heavy traffic on I-94 \n",
    "\n",
    "These indicators can be weather type, time of the day, time ofthe week, etc\n",
    "\n",
    "For instance, we may find out that the traffic is usually heavier in the summer or when it snows"
   ]
  },
  {
   "cell_type": "code",
   "execution_count": 1,
   "metadata": {},
   "outputs": [
    {
     "data": {
      "text/html": [
       "<div>\n",
       "<style scoped>\n",
       "    .dataframe tbody tr th:only-of-type {\n",
       "        vertical-align: middle;\n",
       "    }\n",
       "\n",
       "    .dataframe tbody tr th {\n",
       "        vertical-align: top;\n",
       "    }\n",
       "\n",
       "    .dataframe thead th {\n",
       "        text-align: right;\n",
       "    }\n",
       "</style>\n",
       "<table border=\"1\" class=\"dataframe\">\n",
       "  <thead>\n",
       "    <tr style=\"text-align: right;\">\n",
       "      <th></th>\n",
       "      <th>holiday</th>\n",
       "      <th>temp</th>\n",
       "      <th>rain_1h</th>\n",
       "      <th>snow_1h</th>\n",
       "      <th>clouds_all</th>\n",
       "      <th>weather_main</th>\n",
       "      <th>weather_description</th>\n",
       "      <th>date_time</th>\n",
       "      <th>traffic_volume</th>\n",
       "    </tr>\n",
       "  </thead>\n",
       "  <tbody>\n",
       "    <tr>\n",
       "      <th>0</th>\n",
       "      <td>None</td>\n",
       "      <td>288.28</td>\n",
       "      <td>0.0</td>\n",
       "      <td>0.0</td>\n",
       "      <td>40</td>\n",
       "      <td>Clouds</td>\n",
       "      <td>scattered clouds</td>\n",
       "      <td>2012-10-02 09:00:00</td>\n",
       "      <td>5545</td>\n",
       "    </tr>\n",
       "    <tr>\n",
       "      <th>1</th>\n",
       "      <td>None</td>\n",
       "      <td>289.36</td>\n",
       "      <td>0.0</td>\n",
       "      <td>0.0</td>\n",
       "      <td>75</td>\n",
       "      <td>Clouds</td>\n",
       "      <td>broken clouds</td>\n",
       "      <td>2012-10-02 10:00:00</td>\n",
       "      <td>4516</td>\n",
       "    </tr>\n",
       "    <tr>\n",
       "      <th>2</th>\n",
       "      <td>None</td>\n",
       "      <td>289.58</td>\n",
       "      <td>0.0</td>\n",
       "      <td>0.0</td>\n",
       "      <td>90</td>\n",
       "      <td>Clouds</td>\n",
       "      <td>overcast clouds</td>\n",
       "      <td>2012-10-02 11:00:00</td>\n",
       "      <td>4767</td>\n",
       "    </tr>\n",
       "    <tr>\n",
       "      <th>3</th>\n",
       "      <td>None</td>\n",
       "      <td>290.13</td>\n",
       "      <td>0.0</td>\n",
       "      <td>0.0</td>\n",
       "      <td>90</td>\n",
       "      <td>Clouds</td>\n",
       "      <td>overcast clouds</td>\n",
       "      <td>2012-10-02 12:00:00</td>\n",
       "      <td>5026</td>\n",
       "    </tr>\n",
       "    <tr>\n",
       "      <th>4</th>\n",
       "      <td>None</td>\n",
       "      <td>291.14</td>\n",
       "      <td>0.0</td>\n",
       "      <td>0.0</td>\n",
       "      <td>75</td>\n",
       "      <td>Clouds</td>\n",
       "      <td>broken clouds</td>\n",
       "      <td>2012-10-02 13:00:00</td>\n",
       "      <td>4918</td>\n",
       "    </tr>\n",
       "  </tbody>\n",
       "</table>\n",
       "</div>"
      ],
      "text/plain": [
       "  holiday    temp  rain_1h  snow_1h  clouds_all weather_main  \\\n",
       "0    None  288.28      0.0      0.0          40       Clouds   \n",
       "1    None  289.36      0.0      0.0          75       Clouds   \n",
       "2    None  289.58      0.0      0.0          90       Clouds   \n",
       "3    None  290.13      0.0      0.0          90       Clouds   \n",
       "4    None  291.14      0.0      0.0          75       Clouds   \n",
       "\n",
       "  weather_description            date_time  traffic_volume  \n",
       "0    scattered clouds  2012-10-02 09:00:00            5545  \n",
       "1       broken clouds  2012-10-02 10:00:00            4516  \n",
       "2     overcast clouds  2012-10-02 11:00:00            4767  \n",
       "3     overcast clouds  2012-10-02 12:00:00            5026  \n",
       "4       broken clouds  2012-10-02 13:00:00            4918  "
      ]
     },
     "execution_count": 1,
     "metadata": {},
     "output_type": "execute_result"
    }
   ],
   "source": [
    "import pandas as pd\n",
    "\n",
    "# Remove comments from Jupyter\n",
    "import warnings\n",
    "warnings.filterwarnings('ignore')\n",
    "\n",
    "# Reading the Dataset\n",
    "traffic = pd.read_csv('Metro_Interstate_Traffic_Volume.csv')\n",
    "\n",
    "# First 5 Rows\n",
    "traffic.head()"
   ]
  },
  {
   "cell_type": "code",
   "execution_count": 2,
   "metadata": {},
   "outputs": [
    {
     "data": {
      "text/html": [
       "<div>\n",
       "<style scoped>\n",
       "    .dataframe tbody tr th:only-of-type {\n",
       "        vertical-align: middle;\n",
       "    }\n",
       "\n",
       "    .dataframe tbody tr th {\n",
       "        vertical-align: top;\n",
       "    }\n",
       "\n",
       "    .dataframe thead th {\n",
       "        text-align: right;\n",
       "    }\n",
       "</style>\n",
       "<table border=\"1\" class=\"dataframe\">\n",
       "  <thead>\n",
       "    <tr style=\"text-align: right;\">\n",
       "      <th></th>\n",
       "      <th>holiday</th>\n",
       "      <th>temp</th>\n",
       "      <th>rain_1h</th>\n",
       "      <th>snow_1h</th>\n",
       "      <th>clouds_all</th>\n",
       "      <th>weather_main</th>\n",
       "      <th>weather_description</th>\n",
       "      <th>date_time</th>\n",
       "      <th>traffic_volume</th>\n",
       "    </tr>\n",
       "  </thead>\n",
       "  <tbody>\n",
       "    <tr>\n",
       "      <th>48199</th>\n",
       "      <td>None</td>\n",
       "      <td>283.45</td>\n",
       "      <td>0.0</td>\n",
       "      <td>0.0</td>\n",
       "      <td>75</td>\n",
       "      <td>Clouds</td>\n",
       "      <td>broken clouds</td>\n",
       "      <td>2018-09-30 19:00:00</td>\n",
       "      <td>3543</td>\n",
       "    </tr>\n",
       "    <tr>\n",
       "      <th>48200</th>\n",
       "      <td>None</td>\n",
       "      <td>282.76</td>\n",
       "      <td>0.0</td>\n",
       "      <td>0.0</td>\n",
       "      <td>90</td>\n",
       "      <td>Clouds</td>\n",
       "      <td>overcast clouds</td>\n",
       "      <td>2018-09-30 20:00:00</td>\n",
       "      <td>2781</td>\n",
       "    </tr>\n",
       "    <tr>\n",
       "      <th>48201</th>\n",
       "      <td>None</td>\n",
       "      <td>282.73</td>\n",
       "      <td>0.0</td>\n",
       "      <td>0.0</td>\n",
       "      <td>90</td>\n",
       "      <td>Thunderstorm</td>\n",
       "      <td>proximity thunderstorm</td>\n",
       "      <td>2018-09-30 21:00:00</td>\n",
       "      <td>2159</td>\n",
       "    </tr>\n",
       "    <tr>\n",
       "      <th>48202</th>\n",
       "      <td>None</td>\n",
       "      <td>282.09</td>\n",
       "      <td>0.0</td>\n",
       "      <td>0.0</td>\n",
       "      <td>90</td>\n",
       "      <td>Clouds</td>\n",
       "      <td>overcast clouds</td>\n",
       "      <td>2018-09-30 22:00:00</td>\n",
       "      <td>1450</td>\n",
       "    </tr>\n",
       "    <tr>\n",
       "      <th>48203</th>\n",
       "      <td>None</td>\n",
       "      <td>282.12</td>\n",
       "      <td>0.0</td>\n",
       "      <td>0.0</td>\n",
       "      <td>90</td>\n",
       "      <td>Clouds</td>\n",
       "      <td>overcast clouds</td>\n",
       "      <td>2018-09-30 23:00:00</td>\n",
       "      <td>954</td>\n",
       "    </tr>\n",
       "  </tbody>\n",
       "</table>\n",
       "</div>"
      ],
      "text/plain": [
       "      holiday    temp  rain_1h  snow_1h  clouds_all  weather_main  \\\n",
       "48199    None  283.45      0.0      0.0          75        Clouds   \n",
       "48200    None  282.76      0.0      0.0          90        Clouds   \n",
       "48201    None  282.73      0.0      0.0          90  Thunderstorm   \n",
       "48202    None  282.09      0.0      0.0          90        Clouds   \n",
       "48203    None  282.12      0.0      0.0          90        Clouds   \n",
       "\n",
       "          weather_description            date_time  traffic_volume  \n",
       "48199           broken clouds  2018-09-30 19:00:00            3543  \n",
       "48200         overcast clouds  2018-09-30 20:00:00            2781  \n",
       "48201  proximity thunderstorm  2018-09-30 21:00:00            2159  \n",
       "48202         overcast clouds  2018-09-30 22:00:00            1450  \n",
       "48203         overcast clouds  2018-09-30 23:00:00             954  "
      ]
     },
     "execution_count": 2,
     "metadata": {},
     "output_type": "execute_result"
    }
   ],
   "source": [
    "# Last 5 Rows\n",
    "traffic.tail()"
   ]
  },
  {
   "cell_type": "code",
   "execution_count": 3,
   "metadata": {},
   "outputs": [
    {
     "data": {
      "text/plain": [
       "None                         48143\n",
       "Labor Day                        7\n",
       "Thanksgiving Day                 6\n",
       "Martin Luther King Jr Day        6\n",
       "Christmas Day                    6\n",
       "New Years Day                    6\n",
       "Memorial Day                     5\n",
       "Veterans Day                     5\n",
       "Columbus Day                     5\n",
       "Independence Day                 5\n",
       "Washingtons Birthday             5\n",
       "State Fair                       5\n",
       "Name: holiday, dtype: int64"
      ]
     },
     "execution_count": 3,
     "metadata": {},
     "output_type": "execute_result"
    }
   ],
   "source": [
    "# Creating a frequency table\n",
    "traffic['holiday'].value_counts()"
   ]
  },
  {
   "cell_type": "code",
   "execution_count": 4,
   "metadata": {},
   "outputs": [
    {
     "name": "stdout",
     "output_type": "stream",
     "text": [
      "<class 'pandas.core.frame.DataFrame'>\n",
      "RangeIndex: 48204 entries, 0 to 48203\n",
      "Data columns (total 9 columns):\n",
      " #   Column               Non-Null Count  Dtype  \n",
      "---  ------               --------------  -----  \n",
      " 0   holiday              48204 non-null  object \n",
      " 1   temp                 48204 non-null  float64\n",
      " 2   rain_1h              48204 non-null  float64\n",
      " 3   snow_1h              48204 non-null  float64\n",
      " 4   clouds_all           48204 non-null  int64  \n",
      " 5   weather_main         48204 non-null  object \n",
      " 6   weather_description  48204 non-null  object \n",
      " 7   date_time            48204 non-null  object \n",
      " 8   traffic_volume       48204 non-null  int64  \n",
      "dtypes: float64(3), int64(2), object(4)\n",
      "memory usage: 3.3+ MB\n"
     ]
    }
   ],
   "source": [
    "# Further info on the dataset\n",
    "traffic.info()"
   ]
  },
  {
   "cell_type": "markdown",
   "metadata": {},
   "source": [
    "From observation:\n",
    "* There are 48204 rows and 9 columns in the datset with no null values\n",
    "* Each row describes a traffic or weather data in a specific hour\n",
    "* There is data from 2012-10-02 09:00:00 to 2018-09-30 23:00:00\n",
    "* There is a relatively even distribution of numeric and text data in the columns"
   ]
  },
  {
   "cell_type": "markdown",
   "metadata": {},
   "source": [
    "The dataset [documentation](https://archive.ics.uci.edu/ml/datasets/Metro+Interstate+Traffic+Volume) mentions that a station located approximately midway between Minneapolis and Saint Paul recorded the traffic\n",
    "data. Also, the station only records westbound traffic (cars moving from east to west).\n",
    "\n",
    "This means that the results of our analysis will be about the westbound traffic in the proximity of that station. In other words, we should avoid generalising our results for the entire I-94 highway."
   ]
  },
  {
   "cell_type": "markdown",
   "metadata": {},
   "source": [
    "# Analysing Traffic Volume"
   ]
  },
  {
   "cell_type": "markdown",
   "metadata": {},
   "source": [
    "First, we will plot a histogram to visualise the distribution of the <mark>traffic_volume</mark> column"
   ]
  },
  {
   "cell_type": "code",
   "execution_count": 5,
   "metadata": {},
   "outputs": [],
   "source": [
    "import matplotlib.pyplot as plt\n",
    "%matplotlib inline"
   ]
  },
  {
   "cell_type": "code",
   "execution_count": 6,
   "metadata": {},
   "outputs": [
    {
     "data": {
      "image/png": "[encoded data removed]",
      "text/plain": [
       "<Figure size 432x288 with 1 Axes>"
      ]
     },
     "metadata": {
      "needs_background": "light"
     },
     "output_type": "display_data"
    }
   ],
   "source": [
    "# Create a histogram\n",
    "traffic['traffic_volume'].plot.hist(title='Traffic Volume')\n",
    "plt.show()"
   ]
  },
  {
   "cell_type": "code",
   "execution_count": 7,
   "metadata": {},
   "outputs": [
    {
     "data": {
      "text/plain": [
       "count    48204.000000\n",
       "mean      3259.818355\n",
       "std       1986.860670\n",
       "min          0.000000\n",
       "25%       1193.000000\n",
       "50%       3380.000000\n",
       "75%       4933.000000\n",
       "max       7280.000000\n",
       "Name: traffic_volume, dtype: float64"
      ]
     },
     "execution_count": 7,
     "metadata": {},
     "output_type": "execute_result"
    }
   ],
   "source": [
    "# Statistical information\n",
    "traffic['traffic_volume'].describe()"
   ]
  },
  {
   "cell_type": "markdown",
   "metadata": {},
   "source": [
    "Between 2012-10-02 09:00:00 to 2018-09-30 23:00:00, the hourly traffic volume varied from 0 to 7280 cars, with an average of 3380 cars.\n",
    "\n",
    "About 25% of the time, there were 0 to 1193 cars passing the station each houir, which might indicate night time traffic or other events (construction, accidents at the specific hour where traffic might have been diverted) that might have resulted in low traffic.\n",
    "\n",
    "However, about another 25% of the time, there was 4 times more traffic (up to 4933 cars during the hour).\n",
    "\n",
    "We could use this data to further examine how daytime and night time affects traffic volume and compare the daytime and nighttime data"
   ]
  },
  {
   "cell_type": "markdown",
   "metadata": {},
   "source": [
    "# Traffic Volume: Day vs Night"
   ]
  },
  {
   "cell_type": "markdown",
   "metadata": {},
   "source": [
    "We'll start by dividing the dataset into two parts:\n",
    "* Daytime data: hours from 7 a.m. to 7 p.m. (12 hours)\n",
    "* Nighttime data: hours from 7 p.m. to 7 a.m. (12 hours)"
   ]
  },
  {
   "cell_type": "code",
   "execution_count": 8,
   "metadata": {},
   "outputs": [
    {
     "name": "stdout",
     "output_type": "stream",
     "text": [
      "(23877, 10)\n",
      "(24327, 10)\n"
     ]
    }
   ],
   "source": [
    "import datetime as dt\n",
    "\n",
    "# Convert column to time format\n",
    "traffic['date_time'] = pd.to_datetime(traffic['date_time'])\n",
    "traffic['hour'] = traffic['date_time'].dt.hour\n",
    "\n",
    "# Seperating the data by daytime and nighttime\n",
    "day = traffic.copy()[(traffic['hour'] >= 7) & (traffic['hour'] < 19)]\n",
    "night = traffic.copy()[(traffic['hour'] >= 19) | (traffic['hour'] < 7)]\n",
    "\n",
    "print(day.shape)\n",
    "print(night.shape)"
   ]
  },
  {
   "cell_type": "code",
   "execution_count": 9,
   "metadata": {},
   "outputs": [
    {
     "data": {
      "text/html": [
       "<div>\n",
       "<style scoped>\n",
       "    .dataframe tbody tr th:only-of-type {\n",
       "        vertical-align: middle;\n",
       "    }\n",
       "\n",
       "    .dataframe tbody tr th {\n",
       "        vertical-align: top;\n",
       "    }\n",
       "\n",
       "    .dataframe thead th {\n",
       "        text-align: right;\n",
       "    }\n",
       "</style>\n",
       "<table border=\"1\" class=\"dataframe\">\n",
       "  <thead>\n",
       "    <tr style=\"text-align: right;\">\n",
       "      <th></th>\n",
       "      <th>holiday</th>\n",
       "      <th>temp</th>\n",
       "      <th>rain_1h</th>\n",
       "      <th>snow_1h</th>\n",
       "      <th>clouds_all</th>\n",
       "      <th>weather_main</th>\n",
       "      <th>weather_description</th>\n",
       "      <th>date_time</th>\n",
       "      <th>traffic_volume</th>\n",
       "      <th>hour</th>\n",
       "    </tr>\n",
       "  </thead>\n",
       "  <tbody>\n",
       "    <tr>\n",
       "      <th>0</th>\n",
       "      <td>None</td>\n",
       "      <td>288.28</td>\n",
       "      <td>0.00</td>\n",
       "      <td>0.0</td>\n",
       "      <td>40</td>\n",
       "      <td>Clouds</td>\n",
       "      <td>scattered clouds</td>\n",
       "      <td>2012-10-02 09:00:00</td>\n",
       "      <td>5545</td>\n",
       "      <td>9</td>\n",
       "    </tr>\n",
       "    <tr>\n",
       "      <th>1</th>\n",
       "      <td>None</td>\n",
       "      <td>289.36</td>\n",
       "      <td>0.00</td>\n",
       "      <td>0.0</td>\n",
       "      <td>75</td>\n",
       "      <td>Clouds</td>\n",
       "      <td>broken clouds</td>\n",
       "      <td>2012-10-02 10:00:00</td>\n",
       "      <td>4516</td>\n",
       "      <td>10</td>\n",
       "    </tr>\n",
       "    <tr>\n",
       "      <th>2</th>\n",
       "      <td>None</td>\n",
       "      <td>289.58</td>\n",
       "      <td>0.00</td>\n",
       "      <td>0.0</td>\n",
       "      <td>90</td>\n",
       "      <td>Clouds</td>\n",
       "      <td>overcast clouds</td>\n",
       "      <td>2012-10-02 11:00:00</td>\n",
       "      <td>4767</td>\n",
       "      <td>11</td>\n",
       "    </tr>\n",
       "    <tr>\n",
       "      <th>3</th>\n",
       "      <td>None</td>\n",
       "      <td>290.13</td>\n",
       "      <td>0.00</td>\n",
       "      <td>0.0</td>\n",
       "      <td>90</td>\n",
       "      <td>Clouds</td>\n",
       "      <td>overcast clouds</td>\n",
       "      <td>2012-10-02 12:00:00</td>\n",
       "      <td>5026</td>\n",
       "      <td>12</td>\n",
       "    </tr>\n",
       "    <tr>\n",
       "      <th>4</th>\n",
       "      <td>None</td>\n",
       "      <td>291.14</td>\n",
       "      <td>0.00</td>\n",
       "      <td>0.0</td>\n",
       "      <td>75</td>\n",
       "      <td>Clouds</td>\n",
       "      <td>broken clouds</td>\n",
       "      <td>2012-10-02 13:00:00</td>\n",
       "      <td>4918</td>\n",
       "      <td>13</td>\n",
       "    </tr>\n",
       "    <tr>\n",
       "      <th>...</th>\n",
       "      <td>...</td>\n",
       "      <td>...</td>\n",
       "      <td>...</td>\n",
       "      <td>...</td>\n",
       "      <td>...</td>\n",
       "      <td>...</td>\n",
       "      <td>...</td>\n",
       "      <td>...</td>\n",
       "      <td>...</td>\n",
       "      <td>...</td>\n",
       "    </tr>\n",
       "    <tr>\n",
       "      <th>48194</th>\n",
       "      <td>None</td>\n",
       "      <td>283.84</td>\n",
       "      <td>0.00</td>\n",
       "      <td>0.0</td>\n",
       "      <td>75</td>\n",
       "      <td>Rain</td>\n",
       "      <td>proximity shower rain</td>\n",
       "      <td>2018-09-30 15:00:00</td>\n",
       "      <td>4302</td>\n",
       "      <td>15</td>\n",
       "    </tr>\n",
       "    <tr>\n",
       "      <th>48195</th>\n",
       "      <td>None</td>\n",
       "      <td>283.84</td>\n",
       "      <td>0.00</td>\n",
       "      <td>0.0</td>\n",
       "      <td>75</td>\n",
       "      <td>Drizzle</td>\n",
       "      <td>light intensity drizzle</td>\n",
       "      <td>2018-09-30 15:00:00</td>\n",
       "      <td>4302</td>\n",
       "      <td>15</td>\n",
       "    </tr>\n",
       "    <tr>\n",
       "      <th>48196</th>\n",
       "      <td>None</td>\n",
       "      <td>284.38</td>\n",
       "      <td>0.00</td>\n",
       "      <td>0.0</td>\n",
       "      <td>75</td>\n",
       "      <td>Rain</td>\n",
       "      <td>light rain</td>\n",
       "      <td>2018-09-30 16:00:00</td>\n",
       "      <td>4283</td>\n",
       "      <td>16</td>\n",
       "    </tr>\n",
       "    <tr>\n",
       "      <th>48197</th>\n",
       "      <td>None</td>\n",
       "      <td>284.79</td>\n",
       "      <td>0.00</td>\n",
       "      <td>0.0</td>\n",
       "      <td>75</td>\n",
       "      <td>Clouds</td>\n",
       "      <td>broken clouds</td>\n",
       "      <td>2018-09-30 17:00:00</td>\n",
       "      <td>4132</td>\n",
       "      <td>17</td>\n",
       "    </tr>\n",
       "    <tr>\n",
       "      <th>48198</th>\n",
       "      <td>None</td>\n",
       "      <td>284.20</td>\n",
       "      <td>0.25</td>\n",
       "      <td>0.0</td>\n",
       "      <td>75</td>\n",
       "      <td>Rain</td>\n",
       "      <td>light rain</td>\n",
       "      <td>2018-09-30 18:00:00</td>\n",
       "      <td>3947</td>\n",
       "      <td>18</td>\n",
       "    </tr>\n",
       "  </tbody>\n",
       "</table>\n",
       "<p>23877 rows × 10 columns</p>\n",
       "</div>"
      ],
      "text/plain": [
       "      holiday    temp  rain_1h  snow_1h  clouds_all weather_main  \\\n",
       "0        None  288.28     0.00      0.0          40       Clouds   \n",
       "1        None  289.36     0.00      0.0          75       Clouds   \n",
       "2        None  289.58     0.00      0.0          90       Clouds   \n",
       "3        None  290.13     0.00      0.0          90       Clouds   \n",
       "4        None  291.14     0.00      0.0          75       Clouds   \n",
       "...       ...     ...      ...      ...         ...          ...   \n",
       "48194    None  283.84     0.00      0.0          75         Rain   \n",
       "48195    None  283.84     0.00      0.0          75      Drizzle   \n",
       "48196    None  284.38     0.00      0.0          75         Rain   \n",
       "48197    None  284.79     0.00      0.0          75       Clouds   \n",
       "48198    None  284.20     0.25      0.0          75         Rain   \n",
       "\n",
       "           weather_description           date_time  traffic_volume  hour  \n",
       "0             scattered clouds 2012-10-02 09:00:00            5545     9  \n",
       "1                broken clouds 2012-10-02 10:00:00            4516    10  \n",
       "2              overcast clouds 2012-10-02 11:00:00            4767    11  \n",
       "3              overcast clouds 2012-10-02 12:00:00            5026    12  \n",
       "4                broken clouds 2012-10-02 13:00:00            4918    13  \n",
       "...                        ...                 ...             ...   ...  \n",
       "48194    proximity shower rain 2018-09-30 15:00:00            4302    15  \n",
       "48195  light intensity drizzle 2018-09-30 15:00:00            4302    15  \n",
       "48196               light rain 2018-09-30 16:00:00            4283    16  \n",
       "48197            broken clouds 2018-09-30 17:00:00            4132    17  \n",
       "48198               light rain 2018-09-30 18:00:00            3947    18  \n",
       "\n",
       "[23877 rows x 10 columns]"
      ]
     },
     "execution_count": 9,
     "metadata": {},
     "output_type": "execute_result"
    }
   ],
   "source": [
    "day"
   ]
  },
  {
   "cell_type": "code",
   "execution_count": 10,
   "metadata": {},
   "outputs": [
    {
     "data": {
      "image/png": "[encoded data removed]",
      "text/plain": [
       "<Figure size 792x252 with 2 Axes>"
      ]
     },
     "metadata": {
      "needs_background": "light"
     },
     "output_type": "display_data"
    }
   ],
   "source": [
    "# Creating histograms for daytime and nighttime traffic\n",
    "fig = plt.figure(figsize=(11,3.5))\n",
    "ax1 = fig.add_subplot(1,2,1)\n",
    "ax2 = fig.add_subplot(1,2,2)\n",
    "\n",
    "ax1.hist(day['traffic_volume'])\n",
    "ax1.set_xlabel('Traffic Volume')\n",
    "ax1.set_ylabel('Frequency')\n",
    "ax1.set_title('Traffic Volume Day')\n",
    "ax1.set_xlim(-100,7500)\n",
    "ax1.set_ylim(0,8000)\n",
    "\n",
    "ax2.hist(night['traffic_volume'])\n",
    "ax2.set_xlabel('Traffic Volume')\n",
    "ax2.set_ylabel('Frequency')\n",
    "ax2.set_title('Traffic Volume Night')\n",
    "ax2.set_xlim(-100,7500)\n",
    "ax2.set_ylim(0,8000)\n",
    "\n",
    "plt.show()"
   ]
  },
  {
   "cell_type": "code",
   "execution_count": 11,
   "metadata": {},
   "outputs": [
    {
     "data": {
      "text/plain": [
       "count    23877.000000\n",
       "mean      4762.047452\n",
       "std       1174.546482\n",
       "min          0.000000\n",
       "25%       4252.000000\n",
       "50%       4820.000000\n",
       "75%       5559.000000\n",
       "max       7280.000000\n",
       "Name: traffic_volume, dtype: float64"
      ]
     },
     "execution_count": 11,
     "metadata": {},
     "output_type": "execute_result"
    }
   ],
   "source": [
    "# Daytime traffic volume statistics\n",
    "day['traffic_volume'].describe()"
   ]
  },
  {
   "cell_type": "code",
   "execution_count": 12,
   "metadata": {},
   "outputs": [
    {
     "data": {
      "text/plain": [
       "count    24327.000000\n",
       "mean      1785.377441\n",
       "std       1441.951197\n",
       "min          0.000000\n",
       "25%        530.000000\n",
       "50%       1287.000000\n",
       "75%       2819.000000\n",
       "max       6386.000000\n",
       "Name: traffic_volume, dtype: float64"
      ]
     },
     "execution_count": 12,
     "metadata": {},
     "output_type": "execute_result"
    }
   ],
   "source": [
    "# Nighttime traffic volume statistics\n",
    "night['traffic_volume'].describe()"
   ]
  },
  {
   "cell_type": "markdown",
   "metadata": {},
   "source": [
    "The histogram of the daytime traffic is skewed to the left, meaning that most of the time the traffic volume is high.\n",
    "About 75% of the time, the traffic during this time is 4252 cars or more\n",
    "\n",
    "The histogram of the nighttime traffic is skewed to the right, meaning that most of time the traffic is low.\n",
    "About 75% of the time, the traffic during this time is less than 2819\n",
    "\n",
    "Althought there are areas during the daytime where there is heavy traffic, the traffic at night in general is light, and since the goal is to find heavy traffic indicators, we will continue our analysis without the nighttime traffic data"
   ]
  },
  {
   "cell_type": "markdown",
   "metadata": {},
   "source": [
    "# Time Indicators"
   ]
  },
  {
   "cell_type": "markdown",
   "metadata": {},
   "source": [
    "One of the possible indicators of heavy traffic is time\n",
    "\n",
    "There might be more people on the road in a certain month, on a certain day, or at a ertain time of the day\n",
    "\n",
    "We will look at a plots showing how the traffic volume changed according to the following:\n",
    "* Month\n",
    "* Day of the week\n",
    "* Time of day"
   ]
  },
  {
   "cell_type": "code",
   "execution_count": 13,
   "metadata": {},
   "outputs": [
    {
     "data": {
      "text/plain": [
       "month\n",
       "1     4495.613727\n",
       "2     4711.198394\n",
       "3     4889.409560\n",
       "4     4906.894305\n",
       "5     4911.121609\n",
       "6     4898.019566\n",
       "7     4595.035744\n",
       "8     4928.302035\n",
       "9     4870.783145\n",
       "10    4921.234922\n",
       "11    4704.094319\n",
       "12    4374.834566\n",
       "Name: traffic_volume, dtype: float64"
      ]
     },
     "execution_count": 13,
     "metadata": {},
     "output_type": "execute_result"
    }
   ],
   "source": [
    "#Findiong the average traffic volume by month\n",
    "day['month'] = day['date_time'].dt.month\n",
    "by_month = day.groupby('month').mean()\n",
    "by_month['traffic_volume']"
   ]
  },
  {
   "cell_type": "code",
   "execution_count": 14,
   "metadata": {},
   "outputs": [
    {
     "data": {
      "image/png": "[encoded data removed]",
      "text/plain": [
       "<Figure size 432x288 with 1 Axes>"
      ]
     },
     "metadata": {
      "needs_background": "light"
     },
     "output_type": "display_data"
    }
   ],
   "source": [
    "# Creating a chart showing the average volume by month\n",
    "by_month['traffic_volume'].plot.line(title='Average Traffic Data by Month', xlabel='Year', ylabel='Average Volume')\n",
    "plt.show()"
   ]
  },
  {
   "cell_type": "markdown",
   "metadata": {},
   "source": [
    "The average traffic data starts in January at the low end, and steadily increases until March, where it plateaus until June, then sharply decreases towards July, then sharply increases in August, where it is realtively stable until October, then declines all the way towards the end of the year\n",
    "\n",
    "Traffic starts to decrease as it goes towards the colder months and traffic starrts to increase again as the weather starts to get warmer\n",
    "\n",
    "Though it is interesting to note that the average traffic data sharply decreases from June and sharply goes back up from July\n",
    "\n",
    "To understand why this is the case, we will look into each year for July for further analysis"
   ]
  },
  {
   "cell_type": "code",
   "execution_count": 15,
   "metadata": {},
   "outputs": [
    {
     "data": {
      "text/plain": [
       "year\n",
       "2013    4914.354054\n",
       "2014    4871.598240\n",
       "2015    4613.146226\n",
       "2016    3924.923645\n",
       "2017    4734.120301\n",
       "2018    4586.899543\n",
       "Name: traffic_volume, dtype: float64"
      ]
     },
     "execution_count": 15,
     "metadata": {},
     "output_type": "execute_result"
    }
   ],
   "source": [
    "# Average July traffic data by year\n",
    "day['year'] = day['date_time'].dt.year\n",
    "july_data = day[day['month'] == 7]\n",
    "july_data = july_data.groupby('year').mean()\n",
    "july_data['traffic_volume']"
   ]
  },
  {
   "cell_type": "code",
   "execution_count": 16,
   "metadata": {},
   "outputs": [
    {
     "data": {
      "image/png": "[encoded data removed]",
      "text/plain": [
       "<Figure size 432x288 with 1 Axes>"
      ]
     },
     "metadata": {
      "needs_background": "light"
     },
     "output_type": "display_data"
    }
   ],
   "source": [
    "# Creating a chart showing the average July traffic data by year\n",
    "july_data['traffic_volume'].plot.line(title='July Traffic Data', xlabel='Year', ylabel='Average Volume')\n",
    "plt.show()"
   ]
  },
  {
   "cell_type": "markdown",
   "metadata": {},
   "source": [
    "Generally, July has heavy traffic as well, but from the period of 2015 to 2016, traffic volume sharply decreased, and resumed to normal after 2016.\n",
    "\n",
    "This means that there might have been a one-off event (construction etc) that would have happened during the July period, and could be treated as an exceptional case \n",
    "\n",
    "Using this discovery, for exploration purposes, we will plot a graph without the July 2016 data to see if there were any significant changes"
   ]
  },
  {
   "cell_type": "code",
   "execution_count": 17,
   "metadata": {},
   "outputs": [
    {
     "data": {
      "text/plain": [
       "4733.0"
      ]
     },
     "execution_count": 17,
     "metadata": {},
     "output_type": "execute_result"
    }
   ],
   "source": [
    "# Finding the mean July traffic data excluding the year 2016\n",
    "no_july_2016 = day[(day['month'] == 7) & (day['year'] != 2016)]\n",
    "no_july_2016 = no_july_2016.mean()\n",
    "no_july_2016_mean = no_july_2016['traffic_volume']\n",
    "no_july_2016_mean"
   ]
  },
  {
   "cell_type": "code",
   "execution_count": 18,
   "metadata": {},
   "outputs": [
    {
     "data": {
      "text/plain": [
       "month\n",
       "1     4495.613727\n",
       "2     4711.198394\n",
       "3     4889.409560\n",
       "4     4906.894305\n",
       "5     4911.121609\n",
       "6     4898.019566\n",
       "7     4733.000000\n",
       "8     4928.302035\n",
       "9     4870.783145\n",
       "10    4921.234922\n",
       "11    4704.094319\n",
       "12    4374.834566\n",
       "Name: traffic_volume, dtype: float64"
      ]
     },
     "execution_count": 18,
     "metadata": {},
     "output_type": "execute_result"
    }
   ],
   "source": [
    "# Showing the average traffic data excluding the July 2016 period\n",
    "by_month_copy = by_month.copy()\n",
    "by_month_copy['traffic_volume'][7] = no_july_2016_mean\n",
    "by_month_copy['traffic_volume']"
   ]
  },
  {
   "cell_type": "code",
   "execution_count": 19,
   "metadata": {},
   "outputs": [
    {
     "data": {
      "image/png": "[encoded data removed]",
      "text/plain": [
       "<Figure size 432x288 with 1 Axes>"
      ]
     },
     "metadata": {
      "needs_background": "light"
     },
     "output_type": "display_data"
    }
   ],
   "source": [
    "# Chart data showing traffic data excluding the July 2016 data\n",
    "by_month_copy['traffic_volume'].plot.line(title='Traffic data excluding July 2016', xlabel='Month', ylabel='Average Volume')\n",
    "plt.show()"
   ]
  },
  {
   "cell_type": "markdown",
   "metadata": {},
   "source": [
    "When excluding the July 2016 data, we can still see that the average traffic decreases heading towards July, but the decline wouldn't be as dramatic compared to the line graph that includes the July 2016 data\n",
    "\n",
    "So, if treating July 2016 as a one-time event, this graph would probably represent a more accurate picture of the aerage monthly traffic data.\n",
    "\n",
    "However, continuing our analysis, we will use the original data (without excluding July 2016) as this  was to merely present what the graph would look like removing the exceptional case of July 2016"
   ]
  },
  {
   "cell_type": "markdown",
   "metadata": {},
   "source": [
    "# Time Indicators II"
   ]
  },
  {
   "cell_type": "markdown",
   "metadata": {},
   "source": [
    "We will take a more granular look at the data and analyse the days of the week"
   ]
  },
  {
   "cell_type": "code",
   "execution_count": 20,
   "metadata": {},
   "outputs": [
    {
     "data": {
      "text/plain": [
       "dayofweek\n",
       "0    4893.551286\n",
       "1    5189.004782\n",
       "2    5284.454282\n",
       "3    5311.303730\n",
       "4    5291.600829\n",
       "5    3927.249558\n",
       "6    3436.541789\n",
       "Name: traffic_volume, dtype: float64"
      ]
     },
     "execution_count": 20,
     "metadata": {},
     "output_type": "execute_result"
    }
   ],
   "source": [
    "# Average traffic volume during the days of the week\n",
    "day['dayofweek'] = day['date_time'].dt.dayofweek\n",
    "by_dayofweek = day.groupby ('dayofweek' ) .mean()\n",
    "by_dayofweek['traffic_volume'] # 0 is Monday, 6 is Sunday"
   ]
  },
  {
   "cell_type": "code",
   "execution_count": 21,
   "metadata": {},
   "outputs": [
    {
     "data": {
      "image/png": "[encoded data removed]",
      "text/plain": [
       "<Figure size 432x288 with 1 Axes>"
      ]
     },
     "metadata": {
      "needs_background": "light"
     },
     "output_type": "display_data"
    }
   ],
   "source": [
    "# Chart of average traffic data by the day\n",
    "by_dayofweek['traffic_volume'].plot.line(title='Average Traffic Data by Day', xlabel='Days', ylabel='Average Volume')\n",
    "plt.show()"
   ]
  },
  {
   "cell_type": "markdown",
   "metadata": {},
   "source": [
    "Traffic volume was significantly heavier during the weekdays compared to weekends \n",
    "\n",
    "We see that on average there were over 5000 cars on the road (with the exception for Monday) during the weekdays and less than 4000 cars during the weekends"
   ]
  },
  {
   "cell_type": "markdown",
   "metadata": {},
   "source": [
    "# Time Indicators III"
   ]
  },
  {
   "cell_type": "markdown",
   "metadata": {},
   "source": [
    "As the weekend data drags down the averages, we will continue the analysis by looking at the weekday/weekend traffic data seperately and drill down further and look at the time of the day"
   ]
  },
  {
   "cell_type": "code",
   "execution_count": 22,
   "metadata": {},
   "outputs": [
    {
     "name": "stdout",
     "output_type": "stream",
     "text": [
      "Average Weekday Traffic Data\n",
      "hour\n",
      "7     6030.413559\n",
      "8     5503.497970\n",
      "9     4895.269257\n",
      "10    4378.419118\n",
      "11    4633.419470\n",
      "12    4855.382143\n",
      "13    4859.180473\n",
      "14    5152.995778\n",
      "15    5592.897768\n",
      "16    6189.473647\n",
      "17    5784.827133\n",
      "18    4434.209431\n",
      "Name: traffic_volume, dtype: float64\n",
      "\n",
      "Average Weekend Traffic Data\n",
      "hour\n",
      "7     1589.365894\n",
      "8     2338.578073\n",
      "9     3111.623917\n",
      "10    3686.632302\n",
      "11    4044.154955\n",
      "12    4372.482883\n",
      "13    4362.296564\n",
      "14    4358.543796\n",
      "15    4342.456881\n",
      "16    4339.693805\n",
      "17    4151.919929\n",
      "18    3811.792279\n",
      "Name: traffic_volume, dtype: float64\n"
     ]
    }
   ],
   "source": [
    "# Splitting the data based on the weekday and weekend\n",
    "day['hour'] = day['date_time'].dt.hour\n",
    "weekdays = day.copy()[day['dayofweek'] <= 4] #4 = Friday\n",
    "weekends = day.copy()[day['dayofweek'] > 4]\n",
    "\n",
    "by_weekdays = weekdays.groupby('hour').mean()\n",
    "by_weekends = weekends.groupby('hour').mean()\n",
    "\n",
    "print('Average Weekday Traffic Data')\n",
    "print(by_weekdays['traffic_volume'])\n",
    "print()\n",
    "print('Average Weekend Traffic Data')\n",
    "print(by_weekends['traffic_volume'])"
   ]
  },
  {
   "cell_type": "code",
   "execution_count": 23,
   "metadata": {},
   "outputs": [
    {
     "data": {
      "image/png": "[encoded data removed]",
      "text/plain": [
       "<Figure size 792x252 with 2 Axes>"
      ]
     },
     "metadata": {
      "needs_background": "light"
     },
     "output_type": "display_data"
    }
   ],
   "source": [
    "# Graph for weekday traffic data\n",
    "fig = plt.figure(figsize=(11,3.5))\n",
    "\n",
    "ax1 = fig.add_subplot(1,2,1)\n",
    "ax2 = fig.add_subplot(1,2,2)\n",
    "\n",
    "ax1.set_title('Average Traffic Volume by Hour: Weekdays')\n",
    "ax2.set_title('Average Traffic Volume by Hour: Weekends')\n",
    "\n",
    "ax1.set_xlabel('Hour of the Day')\n",
    "ax2.set_xlabel('Hour of the Day')\n",
    "\n",
    "ax1.set_ylabel('Average Volume')\n",
    "ax2.set_ylabel('Average Volume')\n",
    "\n",
    "ax1.set_xlim(6,20)\n",
    "ax2.set_xlim(6,20)\n",
    "\n",
    "ax1.set_ylim(1500,6500)\n",
    "ax2.set_ylim(1500,6500)\n",
    "\n",
    "ax1.plot(by_weekdays['traffic_volume'])\n",
    "ax2.plot(by_weekends['traffic_volume'])\n",
    "\n",
    "plt.show()"
   ]
  },
  {
   "cell_type": "markdown",
   "metadata": {},
   "source": [
    "Traffic volume during the weekdays starts high at 7am, decreases until 10am, steadily increases until 4pm, and sharply declines until the rest of the day. Using this information, we can assume that peak rush hour in this area is at 7am and 4pm. We see volumes of over 6,000 cars during peak rush hours\n",
    "\n",
    "This graph contrasts with the weekends where from the start traffic volume is low, steadily increases until 12pm, pleateaus until 4pm and slowly declines until the rest of the day\n",
    "\n",
    "To summarise, in regards to time-related indicators of heavy traffic:\n",
    "* The traffic is usually heavier during warm months (March–October) compared to colder months (November–February)\n",
    "* The traffic is usually heavier on weekdays compared to weekends\n",
    "* On weekdays, peak rush hour is around 7am and 4pm"
   ]
  },
  {
   "cell_type": "markdown",
   "metadata": {},
   "source": [
    "# Weather Indicators"
   ]
  },
  {
   "cell_type": "markdown",
   "metadata": {},
   "source": [
    "Another possible indicator of heavy traffic is weather\n",
    "\n",
    "The dataset provides us with a few useful columns about weather:\n",
    "* temp \n",
    "* rain_1h\n",
    "* snow_1h\n",
    "* clouds_all\n",
    "* weather_main \n",
    "* weather_description"
   ]
  },
  {
   "cell_type": "code",
   "execution_count": 24,
   "metadata": {},
   "outputs": [
    {
     "data": {
      "text/plain": [
       "temp              0.128317\n",
       "rain_1h           0.003697\n",
       "snow_1h           0.001265\n",
       "clouds_all       -0.032932\n",
       "traffic_volume    1.000000\n",
       "hour              0.172704\n",
       "month            -0.022337\n",
       "year             -0.003557\n",
       "dayofweek        -0.416453\n",
       "Name: traffic_volume, dtype: float64"
      ]
     },
     "execution_count": 24,
     "metadata": {},
     "output_type": "execute_result"
    }
   ],
   "source": [
    "# Looking at correlation between weather data and traffic volume\n",
    "day.corr()['traffic_volume']"
   ]
  },
  {
   "cell_type": "markdown",
   "metadata": {},
   "source": [
    "Temperature has the strongest correlation at 0.13 compared to the other columns, which show a significantly lower correlation value"
   ]
  },
  {
   "cell_type": "code",
   "execution_count": 25,
   "metadata": {},
   "outputs": [
    {
     "data": {
      "image/png": "[encoded data removed]",
      "text/plain": [
       "<Figure size 432x288 with 1 Axes>"
      ]
     },
     "metadata": {
      "needs_background": "light"
     },
     "output_type": "display_data"
    }
   ],
   "source": [
    "# Scattter plot with traffic volume and temperature\n",
    "day.plot.scatter('traffic_volume','temp', title='Traffic Data in Relation to Temperature')\n",
    "plt.ylim(230,320) # two outliers below have been removed to represent a better picture\n",
    "plt.show()"
   ]
  },
  {
   "cell_type": "markdown",
   "metadata": {},
   "source": [
    "Looking at the graph, we see little correlation with traffic volume in relation to the change in temperature\n",
    "\n",
    "There is low traffic when the temperature is low and there is low traffic when the temperature is high and the same goes when traffic volume is high\n",
    "\n",
    "Therefore, this is not a reliable indicator to determine heavy traffic"
   ]
  },
  {
   "cell_type": "markdown",
   "metadata": {},
   "source": [
    "# Weather Types"
   ]
  },
  {
   "cell_type": "markdown",
   "metadata": {},
   "source": [
    "We will look at the <mark>weather_main</mark> and the <mark>weather_description</mark> columns for further exploration"
   ]
  },
  {
   "cell_type": "code",
   "execution_count": 26,
   "metadata": {},
   "outputs": [],
   "source": [
    "# Getting the mean values for the weather data\n",
    "by_weather_main = day.groupby('weather_main').mean()\n",
    "by_weather_desc = day.groupby('weather_description').mean()"
   ]
  },
  {
   "cell_type": "code",
   "execution_count": 27,
   "metadata": {},
   "outputs": [
    {
     "data": {
      "image/png": "[encoded data removed]",
      "text/plain": [
       "<Figure size 432x288 with 1 Axes>"
      ]
     },
     "metadata": {
      "needs_background": "light"
     },
     "output_type": "display_data"
    }
   ],
   "source": [
    "# Creating a bar plot for the two columns\n",
    "by_weather_main['traffic_volume'].plot.barh(title='Average Traffic in Relations to Weather Type')\n",
    "plt.xlabel('Traffic Volume')\n",
    "plt.ylabel('Weather Type')\n",
    "plt.show()"
   ]
  },
  {
   "cell_type": "markdown",
   "metadata": {},
   "source": [
    "From the analysis, it looks like there is no weather type that has more than 5000 cars, and none of them strongly stand out from each other, which makes it difficult to use this data to identify heavy traffic indicators"
   ]
  },
  {
   "cell_type": "code",
   "execution_count": 28,
   "metadata": {},
   "outputs": [
    {
     "data": {
      "image/png": "[encoded data removed]",
      "text/plain": [
       "<Figure size 360x720 with 1 Axes>"
      ]
     },
     "metadata": {
      "needs_background": "light"
     },
     "output_type": "display_data"
    }
   ],
   "source": [
    "# Bar chart for weather descriptions\n",
    "by_weather_desc['traffic_volume'].plot.barh(figsize=(5,10), title='Average Traffic in Relations to Weather Description')\n",
    "plt.xlabel('Traffic Volume')\n",
    "plt.ylabel('Weather Description')\n",
    "plt.show()"
   ]
  },
  {
   "cell_type": "markdown",
   "metadata": {},
   "source": [
    "There are 3 cases where average traffic exceeds over 5000 cars:\n",
    "* Shower Snow:\n",
    "* Proximity Thunderstorm with Drizzle\n",
    "* Light Rain and Snow\n",
    "\n",
    "It's not clear why these weather types have the highest average traffic values — this is bad weather, but not that bad. Perhaps more people take their cars out of the garage when the weather is bad instead of riding a bike or walking\n",
    "\n",
    "It could also be that people do not go out in the first place when weather is extremely bad"
   ]
  },
  {
   "cell_type": "markdown",
   "metadata": {},
   "source": [
    "# Conclusion"
   ]
  },
  {
   "cell_type": "markdown",
   "metadata": {},
   "source": [
    "In this project, we tried to find indicators of heavy traffic on the I-94 Interstate highway and have found 2 main indicators:\n",
    "\n",
    "Time Indicator:\n",
    "* The traffic is usually heavier during warm months (March–October) compared to colder months (November–February)\n",
    "* The traffic is usually heavier on weekdays compared to weekends\n",
    "* On weekdays, peak rush hour is around 7am and 4pm\n",
    "\n",
    "Weather Indicators:\n",
    "* Shower Snow\n",
    "* Proximity Thunderstorm with Drizzle\n",
    "* Light Rain and Snow\n"
   ]
  }
 ],
 "metadata": {
  "kernelspec": {
   "display_name": "Python 3",
   "language": "python",
   "name": "python3"
  },
  "language_info": {
   "codemirror_mode": {
    "name": "ipython",
    "version": 3
   },
   "file_extension": ".py",
   "mimetype": "text/x-python",
   "name": "python",
   "nbconvert_exporter": "python",
   "pygments_lexer": "ipython3",
   "version": "3.8.5"
  }
 },
 "nbformat": 4,
 "nbformat_minor": 4
}

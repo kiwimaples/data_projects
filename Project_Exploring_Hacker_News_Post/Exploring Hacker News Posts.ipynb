{
 "cells": [
  {
   "cell_type": "markdown",
   "metadata": {},
   "source": [
    "# Exploring Hacker News Posts"
   ]
  },
  {
   "cell_type": "markdown",
   "metadata": {},
   "source": [
    "We will be exploring the Hacker News Posts dataset to find:\n",
    "1) Whether titles starting with 'Ask HN' or 'Show HN' receive more comments on average?\n",
    "2) Whether posts created at a certain time receive more comments on average?\n",
    "\n",
    "*Ask HN: Users submit 'Ask HN' posts to ask the Hacker News Community a specific question*\n",
    "\n",
    "*Show HN: Users submit 'Show HN' posts to show a project, product, or something interesting*\n",
    "\n",
    "You can find the data set [here](https://www.kaggle.com/datasets/hacker-news/hacker-news-posts), but note that it has been reduced from almost 300,000 rows to approximately 20,000 rows by removing all submissions that did not receive any comments, and then randomly sampling from the remaining submissions. \n",
    "\n",
    "Below are descriptions of the columns:\n",
    "* <mark>id</mark>: The unique identifier from Hacker News for the post\n",
    "* <mark>title</mark>: The title of the post\n",
    "* <mark>url</mark>: The URL that the posts links to, if the post has a URL\n",
    "* <mark>num_points</mark>: The number of points the post acquired, calculated as the total number of upvotes minus the total number of downvotes\n",
    "* <mark>num_comments</mark>: The number of comments that were made on the post\n",
    "* <mark>author</mark> : The username of the person who submitted the post\n",
    "* <mark>created_at</mark> : The date and time at which the post was submitted"
   ]
  },
  {
   "cell_type": "code",
   "execution_count": 1,
   "metadata": {},
   "outputs": [
    {
     "name": "stdout",
     "output_type": "stream",
     "text": [
      "['id', 'title', 'url', 'num_points', 'num_comments', 'author', 'created_at']\n",
      "['12224879', 'Interactive Dynamic Video', 'http://www.interactivedynamicvideo.com/', '386', '52', 'ne0phyte', '8/4/2016 11:52']\n",
      "['10975351', 'How to Use Open Source and Shut the Fuck Up at the Same Time', 'http://hueniverse.com/2016/01/26/how-to-use-open-source-and-shut-the-fuck-up-at-the-same-time/', '39', '10', 'josep2', '1/26/2016 19:30']\n",
      "['11964716', \"Florida DJs May Face Felony for April Fools' Water Joke\", 'http://www.thewire.com/entertainment/2013/04/florida-djs-april-fools-water-joke/63798/', '2', '1', 'vezycash', '6/23/2016 22:20']\n",
      "['11919867', 'Technology ventures: From Idea to Enterprise', 'https://www.amazon.com/Technology-Ventures-Enterprise-Thomas-Byers/dp/0073523429', '3', '1', 'hswarna', '6/17/2016 0:01']\n",
      "['10301696', 'Note by Note: The Making of Steinway L1037 (2007)', 'http://www.nytimes.com/2007/11/07/movies/07stein.html?_r=0', '8', '2', 'walterbell', '9/30/2015 4:12']\n"
     ]
    }
   ],
   "source": [
    "from csv import reader\n",
    "\n",
    "#Read the dataset\n",
    "dataset = open('hacker_news.csv')\n",
    "read_dataset = reader(dataset)\n",
    "hn = list(read_dataset)\n",
    "\n",
    "# Display first five rows of dataset\n",
    "for h in hn[:6]:\n",
    "    print(h)"
   ]
  },
  {
   "cell_type": "code",
   "execution_count": 2,
   "metadata": {},
   "outputs": [
    {
     "name": "stdout",
     "output_type": "stream",
     "text": [
      "['id', 'title', 'url', 'num_points', 'num_comments', 'author', 'created_at']\n"
     ]
    }
   ],
   "source": [
    "# Header \n",
    "header = hn[0]\n",
    "print(header)"
   ]
  },
  {
   "cell_type": "code",
   "execution_count": 3,
   "metadata": {},
   "outputs": [
    {
     "name": "stdout",
     "output_type": "stream",
     "text": [
      "['12224879', 'Interactive Dynamic Video', 'http://www.interactivedynamicvideo.com/', '386', '52', 'ne0phyte', '8/4/2016 11:52']\n",
      "['10975351', 'How to Use Open Source and Shut the Fuck Up at the Same Time', 'http://hueniverse.com/2016/01/26/how-to-use-open-source-and-shut-the-fuck-up-at-the-same-time/', '39', '10', 'josep2', '1/26/2016 19:30']\n",
      "['11964716', \"Florida DJs May Face Felony for April Fools' Water Joke\", 'http://www.thewire.com/entertainment/2013/04/florida-djs-april-fools-water-joke/63798/', '2', '1', 'vezycash', '6/23/2016 22:20']\n",
      "['11919867', 'Technology ventures: From Idea to Enterprise', 'https://www.amazon.com/Technology-Ventures-Enterprise-Thomas-Byers/dp/0073523429', '3', '1', 'hswarna', '6/17/2016 0:01']\n",
      "['10301696', 'Note by Note: The Making of Steinway L1037 (2007)', 'http://www.nytimes.com/2007/11/07/movies/07stein.html?_r=0', '8', '2', 'walterbell', '9/30/2015 4:12']\n"
     ]
    }
   ],
   "source": [
    "# Removing header\n",
    "hn = hn[1:]\n",
    "for h in hn[:5]:\n",
    "    print(h)"
   ]
  },
  {
   "cell_type": "code",
   "execution_count": 4,
   "metadata": {},
   "outputs": [
    {
     "name": "stdout",
     "output_type": "stream",
     "text": [
      "Number of posts with Ask HN: 1744\n",
      "Number of posts with Show HN: 1162\n",
      "Number of other posts: 17194\n"
     ]
    }
   ],
   "source": [
    "# Extracting 'Ask HN' and 'Show HN' posts\n",
    "ask_posts = []\n",
    "show_posts = []\n",
    "other_posts = []\n",
    "\n",
    "for h in hn:\n",
    "    # lower case\n",
    "    title = h[1].lower()\n",
    "    # find titles that start with 'ask hn'\n",
    "    if title.startswith('ask hn'):\n",
    "        ask_posts.append(h)\n",
    "    # find titles that start with 'show hn'\n",
    "    elif title.startswith('show hn'):\n",
    "        show_posts.append(h)\n",
    "    # other posts that don't fit the above criteria\n",
    "    else:\n",
    "        other_posts.append(h)\n",
    "\n",
    "print('Number of posts with Ask HN:', len(ask_posts))\n",
    "print('Number of posts with Show HN:', len(show_posts))\n",
    "print('Number of other posts:', len(other_posts))"
   ]
  },
  {
   "cell_type": "code",
   "execution_count": 5,
   "metadata": {},
   "outputs": [
    {
     "name": "stdout",
     "output_type": "stream",
     "text": [
      "Ask HN\n",
      "['12296411', 'Ask HN: How to improve my personal website?', '', '2', '6', 'ahmedbaracat', '8/16/2016 9:55']\n",
      "['10610020', 'Ask HN: Am I the only one outraged by Twitter shutting down share counts?', '', '28', '29', 'tkfx', '11/22/2015 13:43']\n",
      "['11610310', 'Ask HN: Aby recent changes to CSS that broke mobile?', '', '1', '1', 'polskibus', '5/2/2016 10:14']\n",
      "['12210105', 'Ask HN: Looking for Employee #3 How do I do it?', '', '1', '3', 'sph130', '8/2/2016 14:20']\n",
      "['10394168', 'Ask HN: Someone offered to buy my browser extension from me. What now?', '', '28', '17', 'roykolak', '10/15/2015 16:38']\n",
      "\n",
      "Show HN\n",
      "['10627194', 'Show HN: Wio Link  ESP8266 Based Web of Things Hardware Development Platform', 'https://iot.seeed.cc', '26', '22', 'kfihihc', '11/25/2015 14:03']\n",
      "['10646440', 'Show HN: Something pointless I made', 'http://dn.ht/picklecat/', '747', '102', 'dhotson', '11/29/2015 22:46']\n",
      "['11590768', 'Show HN: Shanhu.io, a programming playground powered by e8vm', 'https://shanhu.io', '1', '1', 'h8liu', '4/28/2016 18:05']\n",
      "['12178806', 'Show HN: Webscope  Easy way for web developers to communicate with Clients', 'http://webscopeapp.com', '3', '3', 'fastbrick', '7/28/2016 7:11']\n",
      "['10872799', 'Show HN: GeoScreenshot  Easily test Geo-IP based web pages', 'https://www.geoscreenshot.com/', '1', '9', 'kpsychwave', '1/9/2016 20:45']\n"
     ]
    }
   ],
   "source": [
    "# Example of ask and show HN posts\n",
    "print('Ask HN')\n",
    "for ask in ask_posts[:5]:\n",
    "    print(ask)\n",
    "print()\n",
    "\n",
    "print('Show HN')\n",
    "for show in show_posts[:5]:\n",
    "    print(show)"
   ]
  },
  {
   "cell_type": "code",
   "execution_count": 6,
   "metadata": {},
   "outputs": [
    {
     "name": "stdout",
     "output_type": "stream",
     "text": [
      "Average number of comments for Ask HN posts 14.038417431192661\n",
      "Average number of comments for Show HN posts 10.31669535283993\n"
     ]
    }
   ],
   "source": [
    "# Find the total number of comments for 'Ask' posts\n",
    "total_ask_comments = 0\n",
    "\n",
    "# Adding number of comments from 'Ask' posts\n",
    "for ask in ask_posts:\n",
    "    n_comments = int(ask[4])\n",
    "    total_ask_comments += n_comments\n",
    "    \n",
    "# Finding the average of 'Ask' posts\n",
    "avg_ask_comments = total_ask_comments / len(ask_posts)\n",
    "print('Average number of comments for Ask HN posts',avg_ask_comments)\n",
    "\n",
    "# Find the total number of comments for 'Show' Posts\n",
    "total_show_comments = 0\n",
    "\n",
    "# Adding number of comments for 'Show' posts\n",
    "for show in show_posts:\n",
    "    n_comments = int(show[4])\n",
    "    total_show_comments += n_comments\n",
    "\n",
    "# Finding the average of 'Show' posts\n",
    "avg_show_comments = total_show_comments / len(show_posts)\n",
    "print('Average number of comments for Show HN posts',avg_show_comments)"
   ]
  },
  {
   "cell_type": "markdown",
   "metadata": {},
   "source": [
    "From our analysis, we see that 'Ask HN' posts receive more comments on average\n",
    "\n",
    "We will further analyse the 'Ask HN' posts to see if posts created at a certain time would have more comments\n",
    "\n",
    "We will use the following steps to perform this analysis:\n",
    "1. Calculate the amount of ask posts created in each hour of the day, along with the number of comments received\n",
    "2. Calculate the average number of comments ask posts receive by hour created"
   ]
  },
  {
   "cell_type": "code",
   "execution_count": 7,
   "metadata": {},
   "outputs": [],
   "source": [
    "import datetime as dt\n",
    "\n",
    "result_lists = []\n",
    "\n",
    "# Extracting the time and number of comments data\n",
    "for ask in ask_posts:\n",
    "    created_at = ask[6]\n",
    "    n_comments = int(ask[4])\n",
    "    result_lists.append([created_at, n_comments])\n",
    "\n",
    "counts_by_hour = {}\n",
    "comments_by_hour = {}\n",
    "\n",
    "# Finding the total number of comments by the hour\n",
    "for result in result_lists:\n",
    "    date = result[0]\n",
    "    n_comments = int(result[1])\n",
    "    date_format = \"%m/%d/%Y %H:%M\"\n",
    "    hour = dt.datetime.strptime(date, date_format).strftime(\"%H\")\n",
    "    if hour in counts_by_hour:\n",
    "        counts_by_hour[hour] += 1\n",
    "        comments_by_hour[hour] += n_comments\n",
    "    else:\n",
    "        counts_by_hour[hour] = 1\n",
    "        comments_by_hour[hour] = n_comments\n"
   ]
  },
  {
   "cell_type": "code",
   "execution_count": 8,
   "metadata": {},
   "outputs": [
    {
     "data": {
      "text/plain": [
       "{'09': 45,\n",
       " '13': 85,\n",
       " '10': 59,\n",
       " '14': 107,\n",
       " '16': 108,\n",
       " '23': 68,\n",
       " '12': 73,\n",
       " '17': 100,\n",
       " '15': 116,\n",
       " '21': 109,\n",
       " '20': 80,\n",
       " '02': 58,\n",
       " '18': 109,\n",
       " '03': 54,\n",
       " '05': 46,\n",
       " '19': 110,\n",
       " '01': 60,\n",
       " '22': 71,\n",
       " '08': 48,\n",
       " '04': 47,\n",
       " '00': 55,\n",
       " '06': 44,\n",
       " '07': 34,\n",
       " '11': 58}"
      ]
     },
     "execution_count": 8,
     "metadata": {},
     "output_type": "execute_result"
    }
   ],
   "source": [
    "# Frequency table data\n",
    "counts_by_hour"
   ]
  },
  {
   "cell_type": "code",
   "execution_count": 9,
   "metadata": {},
   "outputs": [
    {
     "data": {
      "text/plain": [
       "{'09': 251,\n",
       " '13': 1253,\n",
       " '10': 793,\n",
       " '14': 1416,\n",
       " '16': 1814,\n",
       " '23': 543,\n",
       " '12': 687,\n",
       " '17': 1146,\n",
       " '15': 4477,\n",
       " '21': 1745,\n",
       " '20': 1722,\n",
       " '02': 1381,\n",
       " '18': 1439,\n",
       " '03': 421,\n",
       " '05': 464,\n",
       " '19': 1188,\n",
       " '01': 683,\n",
       " '22': 479,\n",
       " '08': 492,\n",
       " '04': 337,\n",
       " '00': 447,\n",
       " '06': 397,\n",
       " '07': 267,\n",
       " '11': 641}"
      ]
     },
     "execution_count": 9,
     "metadata": {},
     "output_type": "execute_result"
    }
   ],
   "source": [
    "# Frequency table data\n",
    "comments_by_hour"
   ]
  },
  {
   "cell_type": "markdown",
   "metadata": {},
   "source": [
    "# Calculating the Average Number of Comments for Ask HN Posts by Hour"
   ]
  },
  {
   "cell_type": "code",
   "execution_count": 10,
   "metadata": {},
   "outputs": [],
   "source": [
    "# Calculate the average amount of comments `Ask HN` posts created at each hour of the day receive\n",
    "avg_by_hour = []\n",
    "\n",
    "for hr in comments_by_hour:\n",
    "    avg_by_hour.append([hr, comments_by_hour[hr] / counts_by_hour[hr]])"
   ]
  },
  {
   "cell_type": "code",
   "execution_count": 11,
   "metadata": {},
   "outputs": [
    {
     "name": "stdout",
     "output_type": "stream",
     "text": [
      "Top 5 hours for Ask HN posts\n",
      "15:00, 38.5948275862069 average comments per posts\n",
      "02:00, 23.810344827586206 average comments per posts\n",
      "20:00, 21.525 average comments per posts\n",
      "16:00, 16.796296296296298 average comments per posts\n",
      "21:00, 16.009174311926607 average comments per posts\n"
     ]
    }
   ],
   "source": [
    "#Top 5 hours for Ask HN posts\n",
    "top_5_time = sorted(avg_by_hour, key=lambda x:x[1], reverse=True)[:5]\n",
    "\n",
    "print(\"Top 5 hours for Ask HN posts\")\n",
    "for top_5 in top_5_time:\n",
    "    print(f'{top_5[0]}:00, {top_5[1]} average comments per posts')"
   ]
  },
  {
   "cell_type": "markdown",
   "metadata": {},
   "source": [
    "The hour that receives the most comments per post on average is 15:00, with an average of 38.59 comments per post\n",
    "\n",
    "There's about a 60% increase in the number of comments between the hours with the highest and second highest average number of comments\n",
    "\n",
    "According to the data set [documentation](https://www.kaggle.com/datasets/hacker-news/hacker-news-posts), the timezone used is Eastern Time in the US. So, we could also write 15:00 as 3:00 pm est."
   ]
  },
  {
   "cell_type": "markdown",
   "metadata": {},
   "source": [
    "# Conclusion\n",
    "\n",
    "We analyzed ask posts and show posts to determine which type of post and time receive the most comments on average\n",
    "\n",
    "Based on our analysis, to maximise the amount of comments a post receives, we recommend the post be categorized as ask post and created between 15:00 and 16:00 (3:00 pm est - 4:00 pm est)\n",
    "\n",
    "However, it should be noted that the data set we analysed excluded posts without any comments\n",
    "\n",
    "Given that, it's more accurate to say that of the posts that received comments, ask posts received more comments on average and ask posts created between 15:00 and 16:00 (3:00 pm est - 4:00 pm est) received the most comments on average"
   ]
  }
 ],
 "metadata": {
  "kernelspec": {
   "display_name": "Python 3",
   "language": "python",
   "name": "python3"
  },
  "language_info": {
   "codemirror_mode": {
    "name": "ipython",
    "version": 3
   },
   "file_extension": ".py",
   "mimetype": "text/x-python",
   "name": "python",
   "nbconvert_exporter": "python",
   "pygments_lexer": "ipython3",
   "version": "3.8.5"
  }
 },
 "nbformat": 4,
 "nbformat_minor": 4
}
